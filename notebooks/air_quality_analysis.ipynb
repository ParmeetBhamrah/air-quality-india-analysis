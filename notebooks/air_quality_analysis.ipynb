{
 "cells": [
  {
   "cell_type": "markdown",
   "id": "c495b77c",
   "metadata": {},
   "source": [
    "# **Air Quality Analysis (India)**\n",
    "\n",
    "This exploratory data analysis (EDA) project aims to examine the real-time air quality data sourced from [data.gov.in](https://data.gov.in/resource/real-time-air-quality-index-various-locations). The goal is to uncover meaningful insights about air pollution levels across Indian cities using Python-based analysis and visualization tools.\n",
    "\n",
    "## **Objectives**\n",
    "\n",
    "1. Compare average pollution levels across Indian states and cities.\n",
    "2. Analyze correlations among pollutant metrics.\n",
    "3. Identify and visualize the most polluted monitoring stations.\n",
    "4. Study temporal trends in pollution levels using timestamps.\n",
    "5. Visualize spatial distribution using geographic coordinates.\n",
    "\n",
    "## **Tools & Libraries**\n",
    "We will use the following libraries for data processing and visualization:\n",
    "\n",
    "- `Pandas` for data manipulation  \n",
    "- `NumPy` for numerical operations  \n",
    "- `Matplotlib` & `Seaborn` for plotting  \n",
    "- `Jupyter Notebook` for step-by-step exploration\n"
   ]
  },
  {
   "cell_type": "code",
   "execution_count": 1,
   "id": "e6952bbc",
   "metadata": {},
   "outputs": [],
   "source": [
    "import numpy as np\n",
    "import pandas as pd\n",
    "import matplotlib.pyplot as plt\n",
    "import seaborn as sns"
   ]
  },
  {
   "cell_type": "markdown",
   "id": "e606a92e",
   "metadata": {},
   "source": [
    "## Loading Data"
   ]
  },
  {
   "cell_type": "code",
   "execution_count": 2,
   "id": "89259508",
   "metadata": {},
   "outputs": [
    {
     "data": {
      "text/html": [
       "<div>\n",
       "<style scoped>\n",
       "    .dataframe tbody tr th:only-of-type {\n",
       "        vertical-align: middle;\n",
       "    }\n",
       "\n",
       "    .dataframe tbody tr th {\n",
       "        vertical-align: top;\n",
       "    }\n",
       "\n",
       "    .dataframe thead th {\n",
       "        text-align: right;\n",
       "    }\n",
       "</style>\n",
       "<table border=\"1\" class=\"dataframe\">\n",
       "  <thead>\n",
       "    <tr style=\"text-align: right;\">\n",
       "      <th></th>\n",
       "      <th>country</th>\n",
       "      <th>state</th>\n",
       "      <th>city</th>\n",
       "      <th>station</th>\n",
       "      <th>last_update</th>\n",
       "      <th>latitude</th>\n",
       "      <th>longitude</th>\n",
       "      <th>pollutant_id</th>\n",
       "      <th>pollutant_min</th>\n",
       "      <th>pollutant_max</th>\n",
       "      <th>pollutant_avg</th>\n",
       "    </tr>\n",
       "  </thead>\n",
       "  <tbody>\n",
       "    <tr>\n",
       "      <th>0</th>\n",
       "      <td>India</td>\n",
       "      <td>Andhra_Pradesh</td>\n",
       "      <td>Vijayawada</td>\n",
       "      <td>HB Colony, Vijayawada - APPCB</td>\n",
       "      <td>05-04-2025 21:00:00</td>\n",
       "      <td>16.536107</td>\n",
       "      <td>80.594233</td>\n",
       "      <td>CO</td>\n",
       "      <td>16.0</td>\n",
       "      <td>35.0</td>\n",
       "      <td>26.0</td>\n",
       "    </tr>\n",
       "    <tr>\n",
       "      <th>1</th>\n",
       "      <td>India</td>\n",
       "      <td>Andhra_Pradesh</td>\n",
       "      <td>Vijayawada</td>\n",
       "      <td>Kanuru, Vijayawada - APPCB</td>\n",
       "      <td>05-04-2025 21:00:00</td>\n",
       "      <td>16.486692</td>\n",
       "      <td>80.699436</td>\n",
       "      <td>OZONE</td>\n",
       "      <td>24.0</td>\n",
       "      <td>43.0</td>\n",
       "      <td>37.0</td>\n",
       "    </tr>\n",
       "    <tr>\n",
       "      <th>2</th>\n",
       "      <td>India</td>\n",
       "      <td>Andhra_Pradesh</td>\n",
       "      <td>Vijayawada</td>\n",
       "      <td>Rajiv Gandhi Park, Vijayawada - APPCB</td>\n",
       "      <td>05-04-2025 21:00:00</td>\n",
       "      <td>16.509717</td>\n",
       "      <td>80.612222</td>\n",
       "      <td>PM2.5</td>\n",
       "      <td>62.0</td>\n",
       "      <td>95.0</td>\n",
       "      <td>81.0</td>\n",
       "    </tr>\n",
       "    <tr>\n",
       "      <th>3</th>\n",
       "      <td>India</td>\n",
       "      <td>Andhra_Pradesh</td>\n",
       "      <td>Vijayawada</td>\n",
       "      <td>Rajiv Gandhi Park, Vijayawada - APPCB</td>\n",
       "      <td>05-04-2025 21:00:00</td>\n",
       "      <td>16.509717</td>\n",
       "      <td>80.612222</td>\n",
       "      <td>NO2</td>\n",
       "      <td>49.0</td>\n",
       "      <td>66.0</td>\n",
       "      <td>56.0</td>\n",
       "    </tr>\n",
       "    <tr>\n",
       "      <th>4</th>\n",
       "      <td>India</td>\n",
       "      <td>Andhra_Pradesh</td>\n",
       "      <td>Vijayawada</td>\n",
       "      <td>Rajiv Nagar, Vijayawada - APPCB</td>\n",
       "      <td>05-04-2025 21:00:00</td>\n",
       "      <td>16.554731</td>\n",
       "      <td>80.649110</td>\n",
       "      <td>OZONE</td>\n",
       "      <td>34.0</td>\n",
       "      <td>112.0</td>\n",
       "      <td>51.0</td>\n",
       "    </tr>\n",
       "  </tbody>\n",
       "</table>\n",
       "</div>"
      ],
      "text/plain": [
       "  country           state        city                                station  \\\n",
       "0   India  Andhra_Pradesh  Vijayawada          HB Colony, Vijayawada - APPCB   \n",
       "1   India  Andhra_Pradesh  Vijayawada             Kanuru, Vijayawada - APPCB   \n",
       "2   India  Andhra_Pradesh  Vijayawada  Rajiv Gandhi Park, Vijayawada - APPCB   \n",
       "3   India  Andhra_Pradesh  Vijayawada  Rajiv Gandhi Park, Vijayawada - APPCB   \n",
       "4   India  Andhra_Pradesh  Vijayawada        Rajiv Nagar, Vijayawada - APPCB   \n",
       "\n",
       "           last_update   latitude  longitude pollutant_id  pollutant_min  \\\n",
       "0  05-04-2025 21:00:00  16.536107  80.594233           CO           16.0   \n",
       "1  05-04-2025 21:00:00  16.486692  80.699436        OZONE           24.0   \n",
       "2  05-04-2025 21:00:00  16.509717  80.612222        PM2.5           62.0   \n",
       "3  05-04-2025 21:00:00  16.509717  80.612222          NO2           49.0   \n",
       "4  05-04-2025 21:00:00  16.554731  80.649110        OZONE           34.0   \n",
       "\n",
       "   pollutant_max  pollutant_avg  \n",
       "0           35.0           26.0  \n",
       "1           43.0           37.0  \n",
       "2           95.0           81.0  \n",
       "3           66.0           56.0  \n",
       "4          112.0           51.0  "
      ]
     },
     "execution_count": 2,
     "metadata": {},
     "output_type": "execute_result"
    }
   ],
   "source": [
    "df = pd.read_csv('../data/air_quality_data.csv')\n",
    "df.head()"
   ]
  },
  {
   "cell_type": "markdown",
   "id": "968d01b8",
   "metadata": {},
   "source": [
    "## Initial Data Exploration"
   ]
  },
  {
   "cell_type": "code",
   "execution_count": 3,
   "id": "cba620d9",
   "metadata": {},
   "outputs": [
    {
     "data": {
      "text/plain": [
       "(3229, 11)"
      ]
     },
     "execution_count": 3,
     "metadata": {},
     "output_type": "execute_result"
    }
   ],
   "source": [
    "df.shape # shape (rows, columns)"
   ]
  },
  {
   "cell_type": "code",
   "execution_count": 4,
   "id": "31f38737",
   "metadata": {},
   "outputs": [
    {
     "name": "stdout",
     "output_type": "stream",
     "text": [
      "<class 'pandas.core.frame.DataFrame'>\n",
      "RangeIndex: 3229 entries, 0 to 3228\n",
      "Data columns (total 11 columns):\n",
      " #   Column         Non-Null Count  Dtype  \n",
      "---  ------         --------------  -----  \n",
      " 0   country        3229 non-null   object \n",
      " 1   state          3229 non-null   object \n",
      " 2   city           3229 non-null   object \n",
      " 3   station        3229 non-null   object \n",
      " 4   last_update    3229 non-null   object \n",
      " 5   latitude       3229 non-null   float64\n",
      " 6   longitude      3229 non-null   float64\n",
      " 7   pollutant_id   3229 non-null   object \n",
      " 8   pollutant_min  3005 non-null   float64\n",
      " 9   pollutant_max  3005 non-null   float64\n",
      " 10  pollutant_avg  3005 non-null   float64\n",
      "dtypes: float64(5), object(6)\n",
      "memory usage: 277.6+ KB\n"
     ]
    }
   ],
   "source": [
    "df.info() # column names and data types"
   ]
  },
  {
   "cell_type": "code",
   "execution_count": 5,
   "id": "353abde5",
   "metadata": {},
   "outputs": [
    {
     "data": {
      "text/html": [
       "<div>\n",
       "<style scoped>\n",
       "    .dataframe tbody tr th:only-of-type {\n",
       "        vertical-align: middle;\n",
       "    }\n",
       "\n",
       "    .dataframe tbody tr th {\n",
       "        vertical-align: top;\n",
       "    }\n",
       "\n",
       "    .dataframe thead th {\n",
       "        text-align: right;\n",
       "    }\n",
       "</style>\n",
       "<table border=\"1\" class=\"dataframe\">\n",
       "  <thead>\n",
       "    <tr style=\"text-align: right;\">\n",
       "      <th></th>\n",
       "      <th>latitude</th>\n",
       "      <th>longitude</th>\n",
       "      <th>pollutant_min</th>\n",
       "      <th>pollutant_max</th>\n",
       "      <th>pollutant_avg</th>\n",
       "    </tr>\n",
       "  </thead>\n",
       "  <tbody>\n",
       "    <tr>\n",
       "      <th>count</th>\n",
       "      <td>3229.000000</td>\n",
       "      <td>3229.000000</td>\n",
       "      <td>3005.000000</td>\n",
       "      <td>3005.000000</td>\n",
       "      <td>3005.000000</td>\n",
       "    </tr>\n",
       "    <tr>\n",
       "      <th>mean</th>\n",
       "      <td>22.219637</td>\n",
       "      <td>78.817579</td>\n",
       "      <td>24.221963</td>\n",
       "      <td>83.195008</td>\n",
       "      <td>46.959401</td>\n",
       "    </tr>\n",
       "    <tr>\n",
       "      <th>std</th>\n",
       "      <td>5.558985</td>\n",
       "      <td>4.986845</td>\n",
       "      <td>26.534736</td>\n",
       "      <td>83.834664</td>\n",
       "      <td>43.953519</td>\n",
       "    </tr>\n",
       "    <tr>\n",
       "      <th>min</th>\n",
       "      <td>8.514909</td>\n",
       "      <td>70.909168</td>\n",
       "      <td>1.000000</td>\n",
       "      <td>1.000000</td>\n",
       "      <td>1.000000</td>\n",
       "    </tr>\n",
       "    <tr>\n",
       "      <th>25%</th>\n",
       "      <td>18.993616</td>\n",
       "      <td>75.565602</td>\n",
       "      <td>6.000000</td>\n",
       "      <td>21.000000</td>\n",
       "      <td>13.000000</td>\n",
       "    </tr>\n",
       "    <tr>\n",
       "      <th>50%</th>\n",
       "      <td>23.043070</td>\n",
       "      <td>77.502466</td>\n",
       "      <td>14.000000</td>\n",
       "      <td>58.000000</td>\n",
       "      <td>32.000000</td>\n",
       "    </tr>\n",
       "    <tr>\n",
       "      <th>75%</th>\n",
       "      <td>26.766433</td>\n",
       "      <td>80.936554</td>\n",
       "      <td>34.000000</td>\n",
       "      <td>115.000000</td>\n",
       "      <td>69.000000</td>\n",
       "    </tr>\n",
       "    <tr>\n",
       "      <th>max</th>\n",
       "      <td>34.066206</td>\n",
       "      <td>94.636574</td>\n",
       "      <td>222.000000</td>\n",
       "      <td>491.000000</td>\n",
       "      <td>303.000000</td>\n",
       "    </tr>\n",
       "  </tbody>\n",
       "</table>\n",
       "</div>"
      ],
      "text/plain": [
       "          latitude    longitude  pollutant_min  pollutant_max  pollutant_avg\n",
       "count  3229.000000  3229.000000    3005.000000    3005.000000    3005.000000\n",
       "mean     22.219637    78.817579      24.221963      83.195008      46.959401\n",
       "std       5.558985     4.986845      26.534736      83.834664      43.953519\n",
       "min       8.514909    70.909168       1.000000       1.000000       1.000000\n",
       "25%      18.993616    75.565602       6.000000      21.000000      13.000000\n",
       "50%      23.043070    77.502466      14.000000      58.000000      32.000000\n",
       "75%      26.766433    80.936554      34.000000     115.000000      69.000000\n",
       "max      34.066206    94.636574     222.000000     491.000000     303.000000"
      ]
     },
     "execution_count": 5,
     "metadata": {},
     "output_type": "execute_result"
    }
   ],
   "source": [
    "df.describe() # summary statistics for numerical columns"
   ]
  },
  {
   "cell_type": "code",
   "execution_count": 6,
   "id": "c92acbb2",
   "metadata": {},
   "outputs": [
    {
     "data": {
      "text/plain": [
       "country            0\n",
       "state              0\n",
       "city               0\n",
       "station            0\n",
       "last_update        0\n",
       "latitude           0\n",
       "longitude          0\n",
       "pollutant_id       0\n",
       "pollutant_min    224\n",
       "pollutant_max    224\n",
       "pollutant_avg    224\n",
       "dtype: int64"
      ]
     },
     "execution_count": 6,
     "metadata": {},
     "output_type": "execute_result"
    }
   ],
   "source": [
    "df.isnull().sum() # missing values in each column"
   ]
  },
  {
   "cell_type": "code",
   "execution_count": 7,
   "id": "fc0e5b14",
   "metadata": {},
   "outputs": [
    {
     "data": {
      "text/plain": [
       "np.int64(0)"
      ]
     },
     "execution_count": 7,
     "metadata": {},
     "output_type": "execute_result"
    }
   ],
   "source": [
    "df.duplicated().sum() # duplicate rows"
   ]
  },
  {
   "cell_type": "markdown",
   "id": "5920bff2",
   "metadata": {},
   "source": [
    "## Data Cleaning & Preprocessing"
   ]
  },
  {
   "cell_type": "code",
   "execution_count": 8,
   "id": "99b9bb05",
   "metadata": {},
   "outputs": [
    {
     "name": "stdout",
     "output_type": "stream",
     "text": [
      "Duplicates removed.\n"
     ]
    }
   ],
   "source": [
    "df = df.drop_duplicates() # drops duplicate rows but we already have 0 duplicare rows\n",
    "print(\"Duplicates removed.\")"
   ]
  },
  {
   "cell_type": "code",
   "execution_count": 9,
   "id": "105371e2",
   "metadata": {},
   "outputs": [
    {
     "data": {
      "text/plain": [
       "country            0\n",
       "state              0\n",
       "city               0\n",
       "station            0\n",
       "last_update        0\n",
       "latitude           0\n",
       "longitude          0\n",
       "pollutant_id       0\n",
       "pollutant_min    224\n",
       "pollutant_max    224\n",
       "pollutant_avg    224\n",
       "dtype: int64"
      ]
     },
     "execution_count": 9,
     "metadata": {},
     "output_type": "execute_result"
    }
   ],
   "source": [
    "df.isnull().sum() "
   ]
  },
  {
   "cell_type": "code",
   "execution_count": 10,
   "id": "aa16e020",
   "metadata": {},
   "outputs": [],
   "source": [
    "df['last_update'] = pd.to_datetime(df['last_update'], errors = 'coerce') # converting last_update to datetime"
   ]
  },
  {
   "cell_type": "code",
   "execution_count": 11,
   "id": "77296dd7",
   "metadata": {},
   "outputs": [
    {
     "name": "stdout",
     "output_type": "stream",
     "text": [
      "Rows with missing pollutant values dropped. Remaining rows: 3005\n"
     ]
    }
   ],
   "source": [
    "df = df.dropna(subset = ['pollutant_min', 'pollutant_max', 'pollutant_avg'])\n",
    "print(f\"Rows with missing pollutant values dropped. Remaining rows: {df.shape[0]}\")"
   ]
  },
  {
   "cell_type": "code",
   "execution_count": 12,
   "id": "6f3008b4",
   "metadata": {},
   "outputs": [
    {
     "name": "stdout",
     "output_type": "stream",
     "text": [
      "<class 'pandas.core.frame.DataFrame'>\n",
      "Index: 3005 entries, 0 to 3228\n",
      "Data columns (total 11 columns):\n",
      " #   Column         Non-Null Count  Dtype         \n",
      "---  ------         --------------  -----         \n",
      " 0   country        3005 non-null   object        \n",
      " 1   state          3005 non-null   object        \n",
      " 2   city           3005 non-null   object        \n",
      " 3   station        3005 non-null   object        \n",
      " 4   last_update    3005 non-null   datetime64[ns]\n",
      " 5   latitude       3005 non-null   float64       \n",
      " 6   longitude      3005 non-null   float64       \n",
      " 7   pollutant_id   3005 non-null   object        \n",
      " 8   pollutant_min  3005 non-null   float64       \n",
      " 9   pollutant_max  3005 non-null   float64       \n",
      " 10  pollutant_avg  3005 non-null   float64       \n",
      "dtypes: datetime64[ns](1), float64(5), object(5)\n",
      "memory usage: 281.7+ KB\n"
     ]
    },
    {
     "data": {
      "text/plain": [
       "country          0\n",
       "state            0\n",
       "city             0\n",
       "station          0\n",
       "last_update      0\n",
       "latitude         0\n",
       "longitude        0\n",
       "pollutant_id     0\n",
       "pollutant_min    0\n",
       "pollutant_max    0\n",
       "pollutant_avg    0\n",
       "dtype: int64"
      ]
     },
     "execution_count": 12,
     "metadata": {},
     "output_type": "execute_result"
    }
   ],
   "source": [
    "# checking again\n",
    "df.info()\n",
    "df.isnull().sum()"
   ]
  },
  {
   "cell_type": "markdown",
   "id": "bcf1a070",
   "metadata": {},
   "source": [
    "## Objective 1: Compare Average Pollution Levels Across States and Cities\n",
    "Performing analysis on the average pollution (`pollutant_avg`) across different Indian states and cities. This helps identify the regions with relatively higher air pollution based on real-time monitoring data."
   ]
  },
  {
   "cell_type": "code",
   "execution_count": 13,
   "id": "89b790c4",
   "metadata": {},
   "outputs": [],
   "source": [
    "# state and city wise average pollution\n",
    "state_wise_avg_poll = df.groupby('state')['pollutant_avg'].mean().sort_values(ascending=False)\n",
    "city_wise_avg_poll = df.groupby('city')['pollutant_avg'].mean().sort_values(ascending=False)"
   ]
  },
  {
   "cell_type": "code",
   "execution_count": 14,
   "id": "c832c5b0",
   "metadata": {},
   "outputs": [
    {
     "data": {
      "image/png": "[encoded data removed]",
      "text/plain": [
       "<Figure size 1000x600 with 1 Axes>"
      ]
     },
     "metadata": {},
     "output_type": "display_data"
    }
   ],
   "source": [
    "plt.figure(figsize = (10, 6))\n",
    "state_wise_avg_poll.head(10).plot(kind='bar', color='crimson')\n",
    "plt.title('Top 10 Most Polluted States (Avg. Pollutant Level)')\n",
    "plt.ylabel('Avg. Pollutant Level')\n",
    "plt.xlabel('State')\n",
    "plt.xticks(rotation = 68.5)\n",
    "plt.tight_layout()\n",
    "plt.show()"
   ]
  },
  {
   "cell_type": "code",
   "execution_count": 15,
   "id": "ee84b470",
   "metadata": {},
   "outputs": [
    {
     "data": {
      "image/png": "[encoded data removed]",
      "text/plain": [
       "<Figure size 1000x600 with 1 Axes>"
      ]
     },
     "metadata": {},
     "output_type": "display_data"
    }
   ],
   "source": [
    "plt.figure(figsize = (10, 6))\n",
    "city_wise_avg_poll.head(10).plot(kind='bar', color='crimson')\n",
    "plt.title('Top 10 Most Polluted Cities (Avg. Pollutant Level)')\n",
    "plt.ylabel('Avg. Pollutant Level')\n",
    "plt.xlabel('City')\n",
    "plt.xticks(rotation = 68.5)\n",
    "plt.tight_layout()\n",
    "plt.show()"
   ]
  }
 ],
 "metadata": {
  "kernelspec": {
   "display_name": "Python 3",
   "language": "python",
   "name": "python3"
  },
  "language_info": {
   "codemirror_mode": {
    "name": "ipython",
    "version": 3
   },
   "file_extension": ".py",
   "mimetype": "text/x-python",
   "name": "python",
   "nbconvert_exporter": "python",
   "pygments_lexer": "ipython3",
   "version": "3.11.0"
  }
 },
 "nbformat": 4,
 "nbformat_minor": 5
}
